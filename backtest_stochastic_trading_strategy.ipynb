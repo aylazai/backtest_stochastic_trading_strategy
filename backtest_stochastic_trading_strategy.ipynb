{
 "cells": [
  {
   "cell_type": "code",
   "execution_count": 1,
   "metadata": {},
   "outputs": [],
   "source": [
    "import yfinance as yf\n",
    "import ta\n",
    "import matplotlib.pyplot as plt\n",
    "import pandas as pd"
   ]
  },
  {
   "cell_type": "code",
   "execution_count": 2,
   "metadata": {},
   "outputs": [
    {
     "name": "stdout",
     "output_type": "stream",
     "text": [
      "[*********************100%***********************]  1 of 1 completed\n"
     ]
    }
   ],
   "source": [
    "df = yf.download('BIT-USD', start='2015-01-01')"
   ]
  },
  {
   "cell_type": "code",
   "execution_count": 3,
   "metadata": {},
   "outputs": [
    {
     "data": {
      "text/html": [
       "<div>\n",
       "<style scoped>\n",
       "    .dataframe tbody tr th:only-of-type {\n",
       "        vertical-align: middle;\n",
       "    }\n",
       "\n",
       "    .dataframe tbody tr th {\n",
       "        vertical-align: top;\n",
       "    }\n",
       "\n",
       "    .dataframe thead th {\n",
       "        text-align: right;\n",
       "    }\n",
       "</style>\n",
       "<table border=\"1\" class=\"dataframe\">\n",
       "  <thead>\n",
       "    <tr style=\"text-align: right;\">\n",
       "      <th></th>\n",
       "      <th>Open</th>\n",
       "      <th>High</th>\n",
       "      <th>Low</th>\n",
       "      <th>Close</th>\n",
       "      <th>Adj Close</th>\n",
       "      <th>Volume</th>\n",
       "    </tr>\n",
       "    <tr>\n",
       "      <th>Date</th>\n",
       "      <th></th>\n",
       "      <th></th>\n",
       "      <th></th>\n",
       "      <th></th>\n",
       "      <th></th>\n",
       "      <th></th>\n",
       "    </tr>\n",
       "  </thead>\n",
       "  <tbody>\n",
       "    <tr>\n",
       "      <th>2018-07-25</th>\n",
       "      <td>0.003299</td>\n",
       "      <td>0.004294</td>\n",
       "      <td>0.003295</td>\n",
       "      <td>0.004256</td>\n",
       "      <td>0.004256</td>\n",
       "      <td>130010</td>\n",
       "    </tr>\n",
       "    <tr>\n",
       "      <th>2018-07-26</th>\n",
       "      <td>0.004252</td>\n",
       "      <td>0.005119</td>\n",
       "      <td>0.003322</td>\n",
       "      <td>0.005104</td>\n",
       "      <td>0.005104</td>\n",
       "      <td>147874</td>\n",
       "    </tr>\n",
       "    <tr>\n",
       "      <th>2018-07-27</th>\n",
       "      <td>0.005102</td>\n",
       "      <td>0.005123</td>\n",
       "      <td>0.004145</td>\n",
       "      <td>0.004227</td>\n",
       "      <td>0.004227</td>\n",
       "      <td>142382</td>\n",
       "    </tr>\n",
       "    <tr>\n",
       "      <th>2018-07-28</th>\n",
       "      <td>0.003758</td>\n",
       "      <td>0.004686</td>\n",
       "      <td>0.003721</td>\n",
       "      <td>0.004668</td>\n",
       "      <td>0.004668</td>\n",
       "      <td>78757</td>\n",
       "    </tr>\n",
       "    <tr>\n",
       "      <th>2018-07-29</th>\n",
       "      <td>0.004671</td>\n",
       "      <td>0.004700</td>\n",
       "      <td>0.003700</td>\n",
       "      <td>0.003735</td>\n",
       "      <td>0.003735</td>\n",
       "      <td>157257</td>\n",
       "    </tr>\n",
       "    <tr>\n",
       "      <th>...</th>\n",
       "      <td>...</td>\n",
       "      <td>...</td>\n",
       "      <td>...</td>\n",
       "      <td>...</td>\n",
       "      <td>...</td>\n",
       "      <td>...</td>\n",
       "    </tr>\n",
       "    <tr>\n",
       "      <th>2022-09-13</th>\n",
       "      <td>0.000086</td>\n",
       "      <td>0.000087</td>\n",
       "      <td>0.000078</td>\n",
       "      <td>0.000079</td>\n",
       "      <td>0.000079</td>\n",
       "      <td>0</td>\n",
       "    </tr>\n",
       "    <tr>\n",
       "      <th>2022-09-14</th>\n",
       "      <td>0.000079</td>\n",
       "      <td>0.000082</td>\n",
       "      <td>0.000078</td>\n",
       "      <td>0.000082</td>\n",
       "      <td>0.000082</td>\n",
       "      <td>0</td>\n",
       "    </tr>\n",
       "    <tr>\n",
       "      <th>2022-09-15</th>\n",
       "      <td>0.000082</td>\n",
       "      <td>0.000083</td>\n",
       "      <td>0.000073</td>\n",
       "      <td>0.000074</td>\n",
       "      <td>0.000074</td>\n",
       "      <td>0</td>\n",
       "    </tr>\n",
       "    <tr>\n",
       "      <th>2022-09-16</th>\n",
       "      <td>0.000074</td>\n",
       "      <td>0.000074</td>\n",
       "      <td>0.000071</td>\n",
       "      <td>0.000072</td>\n",
       "      <td>0.000072</td>\n",
       "      <td>0</td>\n",
       "    </tr>\n",
       "    <tr>\n",
       "      <th>2022-09-17</th>\n",
       "      <td>0.000072</td>\n",
       "      <td>0.000074</td>\n",
       "      <td>0.000071</td>\n",
       "      <td>0.000074</td>\n",
       "      <td>0.000074</td>\n",
       "      <td>0</td>\n",
       "    </tr>\n",
       "  </tbody>\n",
       "</table>\n",
       "<p>1516 rows × 6 columns</p>\n",
       "</div>"
      ],
      "text/plain": [
       "                Open      High       Low     Close  Adj Close  Volume\n",
       "Date                                                                 \n",
       "2018-07-25  0.003299  0.004294  0.003295  0.004256   0.004256  130010\n",
       "2018-07-26  0.004252  0.005119  0.003322  0.005104   0.005104  147874\n",
       "2018-07-27  0.005102  0.005123  0.004145  0.004227   0.004227  142382\n",
       "2018-07-28  0.003758  0.004686  0.003721  0.004668   0.004668   78757\n",
       "2018-07-29  0.004671  0.004700  0.003700  0.003735   0.003735  157257\n",
       "...              ...       ...       ...       ...        ...     ...\n",
       "2022-09-13  0.000086  0.000087  0.000078  0.000079   0.000079       0\n",
       "2022-09-14  0.000079  0.000082  0.000078  0.000082   0.000082       0\n",
       "2022-09-15  0.000082  0.000083  0.000073  0.000074   0.000074       0\n",
       "2022-09-16  0.000074  0.000074  0.000071  0.000072   0.000072       0\n",
       "2022-09-17  0.000072  0.000074  0.000071  0.000074   0.000074       0\n",
       "\n",
       "[1516 rows x 6 columns]"
      ]
     },
     "execution_count": 3,
     "metadata": {},
     "output_type": "execute_result"
    }
   ],
   "source": [
    "df"
   ]
  },
  {
   "cell_type": "code",
   "execution_count": 4,
   "metadata": {},
   "outputs": [],
   "source": [
    "def indicators(df):\n",
    "    df['SMA_200'] = ta.trend.sma_indicator(df.Close, window=200)\n",
    "    df['stoch_k'] = ta.momentum.stochrsi_k(df.Close, window=10)"
   ]
  },
  {
   "cell_type": "code",
   "execution_count": 5,
   "metadata": {},
   "outputs": [],
   "source": [
    "indicators(df)"
   ]
  },
  {
   "cell_type": "code",
   "execution_count": 6,
   "metadata": {},
   "outputs": [],
   "source": [
    "df['Buy'] = (df.Close > df.SMA_200) & (df.stoch_k < 0.05)"
   ]
  },
  {
   "cell_type": "code",
   "execution_count": 7,
   "metadata": {},
   "outputs": [],
   "source": [
    "#  ==== Rayner Teos 3588% Stochastic Trading Strategy ====\n",
    "#  Loop over columns Buy and Low \n",
    "#  When Buy = true and Low is below buy target value (Close * 0.97) then you know asset has been bought\n",
    "#  Now, if the Close n days after where n > 0 is above target value, then you sell asset on next days open price\n",
    "#  If there are two subsequent Buy = true days then we must check whether buy date is above the sell date"
   ]
  },
  {
   "cell_type": "code",
   "execution_count": 8,
   "metadata": {},
   "outputs": [],
   "source": [
    "buydates, selldates = [], []\n",
    "buys, sells = [], []\n",
    "\n",
    "last_selldate = pd.to_datetime('1900-01-01')\n",
    "\n",
    "for row in range(len(df)):\n",
    "    if len(selldates) > 0:\n",
    "        last_selldate = selldates[-1]\n",
    "    if df.iloc[row].Buy:\n",
    "        buyprice = df.iloc[row].Close*0.97\n",
    "        k = 1\n",
    "        while True:\n",
    "            if buyprice >= df.iloc[row+k].Low:\n",
    "                buydate = df.iloc[row+k].name\n",
    "                break\n",
    "            elif k > 10:\n",
    "                break\n",
    "            else:\n",
    "                k += 1\n",
    "        if buydate > last_selldate:\n",
    "            buydates.append(buydate)\n",
    "            buys.append(buyprice)\n",
    "            for j in range(1, 11):\n",
    "                if df.iloc[row + k + j].Close > buyprice:\n",
    "                    sellprice = df.iloc[row + k + j + 1].Open\n",
    "                    selldate = df.iloc[row + k + j + 1].name\n",
    "                    sells.append(sellprice)\n",
    "                    selldates.append(selldate)\n",
    "                    break\n",
    "                elif j == 10:\n",
    "                    sellprice = df.iloc[row + k + j + 1].Open\n",
    "                    selldate = df.iloc[row + k + j + 1].name\n",
    "                    sells.append(sellprice)\n",
    "                    selldates.append(selldate)\n"
   ]
  },
  {
   "cell_type": "code",
   "execution_count": 9,
   "metadata": {},
   "outputs": [
    {
     "data": {
      "text/plain": [
       "[Timestamp('2020-10-01 00:00:00'),\n",
       " Timestamp('2020-10-14 00:00:00'),\n",
       " Timestamp('2021-04-23 00:00:00'),\n",
       " Timestamp('2021-10-17 00:00:00'),\n",
       " Timestamp('2021-12-10 00:00:00'),\n",
       " Timestamp('2021-12-13 00:00:00'),\n",
       " Timestamp('2021-12-28 00:00:00')]"
      ]
     },
     "execution_count": 9,
     "metadata": {},
     "output_type": "execute_result"
    }
   ],
   "source": [
    "buydates # you can see buy and sell dates are different"
   ]
  },
  {
   "cell_type": "code",
   "execution_count": 10,
   "metadata": {},
   "outputs": [
    {
     "data": {
      "text/plain": [
       "[Timestamp('2020-10-03 00:00:00'),\n",
       " Timestamp('2020-10-17 00:00:00'),\n",
       " Timestamp('2021-04-25 00:00:00'),\n",
       " Timestamp('2021-10-19 00:00:00'),\n",
       " Timestamp('2021-12-12 00:00:00'),\n",
       " Timestamp('2021-12-16 00:00:00'),\n",
       " Timestamp('2022-01-08 00:00:00')]"
      ]
     },
     "execution_count": 10,
     "metadata": {},
     "output_type": "execute_result"
    }
   ],
   "source": [
    "selldates"
   ]
  },
  {
   "cell_type": "code",
   "execution_count": 11,
   "metadata": {},
   "outputs": [
    {
     "data": {
      "text/plain": [
       "DatetimeIndex(['2020-10-01', '2020-10-14', '2021-04-23', '2021-10-17',\n",
       "               '2021-12-10', '2021-12-13', '2021-12-28'],\n",
       "              dtype='datetime64[ns]', name='Date', freq=None)"
      ]
     },
     "execution_count": 11,
     "metadata": {},
     "output_type": "execute_result"
    }
   ],
   "source": [
    "df.loc[buydates].index"
   ]
  },
  {
   "cell_type": "code",
   "execution_count": 12,
   "metadata": {},
   "outputs": [
    {
     "data": {
      "text/plain": [
       "<matplotlib.collections.PathCollection at 0x25c8da451b0>"
      ]
     },
     "execution_count": 12,
     "metadata": {},
     "output_type": "execute_result"
    },
    {
     "data": {
      "image/png": "[encoded data removed]",
      "text/plain": [
       "<Figure size 640x480 with 1 Axes>"
      ]
     },
     "metadata": {},
     "output_type": "display_data"
    }
   ],
   "source": [
    "plt.plot(df.Close)\n",
    "plt.scatter(df.loc[buydates].index, df.loc[buydates].Close, marker='^', c='g')\n",
    "plt.scatter(df.loc[selldates].index, df.loc[selldates].Close, marker= '^', c='r')"
   ]
  },
  {
   "cell_type": "code",
   "execution_count": 13,
   "metadata": {},
   "outputs": [
    {
     "data": {
      "text/plain": [
       "[0.00014937999410904012,\n",
       " 0.00015811000412213616,\n",
       " 0.0003007000029901974,\n",
       " 0.00018332999854465016,\n",
       " 0.00015325999542255885,\n",
       " 0.00014550000691087916,\n",
       " 0.0001503500014950987]"
      ]
     },
     "execution_count": 13,
     "metadata": {},
     "output_type": "execute_result"
    }
   ],
   "source": [
    "buys"
   ]
  },
  {
   "cell_type": "code",
   "execution_count": 14,
   "metadata": {},
   "outputs": [
    {
     "data": {
      "text/plain": [
       "[0.0005929999751970172,\n",
       " 0.0005949999904260039,\n",
       " 0.0003330000035930425,\n",
       " 0.0001880000054370612,\n",
       " 0.000155999994603917,\n",
       " 0.0001539999939268455,\n",
       " 0.00012199999764561653]"
      ]
     },
     "execution_count": 14,
     "metadata": {},
     "output_type": "execute_result"
    }
   ],
   "source": [
    "sells"
   ]
  },
  {
   "cell_type": "code",
   "execution_count": 15,
   "metadata": {},
   "outputs": [
    {
     "data": {
      "text/plain": [
       "[2.969741589119063,\n",
       " 2.7632026748059584,\n",
       " 0.10741603020169598,\n",
       " 0.025473228219513953,\n",
       " 0.01787811081295936,\n",
       " 0.058419151974148646,\n",
       " -0.18856005033299816]"
      ]
     },
     "execution_count": 15,
     "metadata": {},
     "output_type": "execute_result"
    }
   ],
   "source": [
    "[(sell - buy)/buy for sell, buy in zip (sells, buys)]"
   ]
  },
  {
   "cell_type": "code",
   "execution_count": 16,
   "metadata": {},
   "outputs": [],
   "source": [
    "# Profit calculation\n",
    "profits = pd.DataFrame([(sell - buy)/buy for sell, buy in zip (sells, buys)])"
   ]
  },
  {
   "cell_type": "code",
   "execution_count": 17,
   "metadata": {},
   "outputs": [
    {
     "data": {
      "text/html": [
       "<div>\n",
       "<style scoped>\n",
       "    .dataframe tbody tr th:only-of-type {\n",
       "        vertical-align: middle;\n",
       "    }\n",
       "\n",
       "    .dataframe tbody tr th {\n",
       "        vertical-align: top;\n",
       "    }\n",
       "\n",
       "    .dataframe thead th {\n",
       "        text-align: right;\n",
       "    }\n",
       "</style>\n",
       "<table border=\"1\" class=\"dataframe\">\n",
       "  <thead>\n",
       "    <tr style=\"text-align: right;\">\n",
       "      <th></th>\n",
       "      <th>0</th>\n",
       "    </tr>\n",
       "  </thead>\n",
       "  <tbody>\n",
       "    <tr>\n",
       "      <th>0</th>\n",
       "      <td>3.969742</td>\n",
       "    </tr>\n",
       "    <tr>\n",
       "      <th>1</th>\n",
       "      <td>14.938942</td>\n",
       "    </tr>\n",
       "    <tr>\n",
       "      <th>2</th>\n",
       "      <td>16.543624</td>\n",
       "    </tr>\n",
       "    <tr>\n",
       "      <th>3</th>\n",
       "      <td>16.965044</td>\n",
       "    </tr>\n",
       "    <tr>\n",
       "      <th>4</th>\n",
       "      <td>17.268346</td>\n",
       "    </tr>\n",
       "    <tr>\n",
       "      <th>5</th>\n",
       "      <td>18.277149</td>\n",
       "    </tr>\n",
       "    <tr>\n",
       "      <th>6</th>\n",
       "      <td>14.830809</td>\n",
       "    </tr>\n",
       "  </tbody>\n",
       "</table>\n",
       "</div>"
      ],
      "text/plain": [
       "           0\n",
       "0   3.969742\n",
       "1  14.938942\n",
       "2  16.543624\n",
       "3  16.965044\n",
       "4  17.268346\n",
       "5  18.277149\n",
       "6  14.830809"
      ]
     },
     "execution_count": 17,
     "metadata": {},
     "output_type": "execute_result"
    }
   ],
   "source": [
    "(profits + 1).cumprod() #accumulative profit"
   ]
  },
  {
   "cell_type": "code",
   "execution_count": 18,
   "metadata": {},
   "outputs": [
    {
     "data": {
      "text/plain": [
       "Date\n",
       "2018-07-25         NaN\n",
       "2018-07-26    1.199248\n",
       "2018-07-27    0.993186\n",
       "2018-07-28    1.096805\n",
       "2018-07-29    0.877585\n",
       "                ...   \n",
       "2022-09-13    0.018562\n",
       "2022-09-14    0.019267\n",
       "2022-09-15    0.017387\n",
       "2022-09-16    0.016917\n",
       "2022-09-17    0.017387\n",
       "Name: Close, Length: 1516, dtype: float64"
      ]
     },
     "execution_count": 18,
     "metadata": {},
     "output_type": "execute_result"
    }
   ],
   "source": [
    "(df.Close.pct_change() + 1).cumprod() # take into consideration buy and order return"
   ]
  }
 ],
 "metadata": {
  "kernelspec": {
   "display_name": "Python 3.10.4 ('venv')",
   "language": "python",
   "name": "python3"
  },
  "language_info": {
   "codemirror_mode": {
    "name": "ipython",
    "version": 3
   },
   "file_extension": ".py",
   "mimetype": "text/x-python",
   "name": "python",
   "nbconvert_exporter": "python",
   "pygments_lexer": "ipython3",
   "version": "3.10.4"
  },
  "orig_nbformat": 4,
  "vscode": {
   "interpreter": {
    "hash": "afbc6e9778788c6caed5560fc5abeef704468cfa3b6102d41f5c558d11ad270d"
   }
  }
 },
 "nbformat": 4,
 "nbformat_minor": 2
}
